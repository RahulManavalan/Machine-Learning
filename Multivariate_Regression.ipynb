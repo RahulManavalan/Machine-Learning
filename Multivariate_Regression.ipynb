{
  "nbformat": 4,
  "nbformat_minor": 0,
  "metadata": {
    "colab": {
      "name": "Untitled25.ipynb",
      "provenance": [],
      "authorship_tag": "ABX9TyPMGtZsm0HufZaAh58ihtR/",
      "include_colab_link": true
    },
    "kernelspec": {
      "name": "python3",
      "display_name": "Python 3"
    }
  },
  "cells": [
    {
      "cell_type": "markdown",
      "metadata": {
        "id": "view-in-github",
        "colab_type": "text"
      },
      "source": [
        "<a href=\"https://colab.research.google.com/github/RahulManavalan/Machine-Learning/blob/master/Multivariate_Regression.ipynb\" target=\"_parent\"><img src=\"https://colab.research.google.com/assets/colab-badge.svg\" alt=\"Open In Colab\"/></a>"
      ]
    },
    {
      "cell_type": "code",
      "metadata": {
        "id": "0nMeADlc1Ap8",
        "colab_type": "code",
        "colab": {
          "base_uri": "https://localhost:8080/",
          "height": 139
        },
        "outputId": "c9f7ef4e-8097-4b0b-f9c7-5df1a9d48e57"
      },
      "source": [
        "pip install tensorflow==1.0 "
      ],
      "execution_count": 51,
      "outputs": [
        {
          "output_type": "stream",
          "text": [
            "Requirement already satisfied: tensorflow==1.0 in /usr/local/lib/python3.6/dist-packages (1.0.0)\n",
            "Requirement already satisfied: wheel>=0.26 in /usr/local/lib/python3.6/dist-packages (from tensorflow==1.0) (0.34.2)\n",
            "Requirement already satisfied: protobuf>=3.1.0 in /usr/local/lib/python3.6/dist-packages (from tensorflow==1.0) (3.10.0)\n",
            "Requirement already satisfied: six>=1.10.0 in /usr/local/lib/python3.6/dist-packages (from tensorflow==1.0) (1.12.0)\n",
            "Requirement already satisfied: numpy>=1.11.0 in /usr/local/lib/python3.6/dist-packages (from tensorflow==1.0) (1.18.4)\n",
            "Requirement already satisfied: setuptools in /usr/local/lib/python3.6/dist-packages (from protobuf>=3.1.0->tensorflow==1.0) (46.3.0)\n"
          ],
          "name": "stdout"
        }
      ]
    },
    {
      "cell_type": "code",
      "metadata": {
        "id": "nBXbnWnZ1ILZ",
        "colab_type": "code",
        "colab": {}
      },
      "source": [
        "import pandas as pd \n",
        "import numpy as np \n",
        "from sklearn import linear_model , datasets"
      ],
      "execution_count": 0,
      "outputs": []
    },
    {
      "cell_type": "code",
      "metadata": {
        "id": "BmrvVrLn7GhT",
        "colab_type": "code",
        "colab": {}
      },
      "source": [
        "def readFile(filename): \n",
        "  data = pd.read_csv(filename,sep=\",\",usecols=[0,5],names=[\"Date\",\"Price\"],header=0)\n",
        "\n",
        "  data[\"Date\"] = pd.to_datetime(data[\"Date\"],format=\"%Y-%m-%d\")\n",
        "  data = data.sort_values([\"Date\"],ascending=True) \n",
        "\n",
        "  returns = data[[key for key in dict(data.dtypes) if dict(data.dtypes)[key] in [\"float64\",\"int64\"]]].pct_change()\n",
        "\n",
        "  return np.array(returns[\"Price\"])[1:]"
      ],
      "execution_count": 0,
      "outputs": []
    },
    {
      "cell_type": "code",
      "metadata": {
        "id": "He8RIDhV1K9y",
        "colab_type": "code",
        "colab": {}
      },
      "source": [
        "def read_xom_oil_xom_nasdaq_data():\n",
        "  nasdaqData = readFile(\"/content/^GSPC.csv\")\n",
        "  oilData = readFile(\"/content/USO.csv\")\n",
        "  xomData = readFile(\"/content/XOM.csv\")\n",
        "\n",
        "  return(nasdaqData,oilData,xomData)"
      ],
      "execution_count": 0,
      "outputs": []
    },
    {
      "cell_type": "code",
      "metadata": {
        "id": "7F63mnHa1Lh7",
        "colab_type": "code",
        "colab": {}
      },
      "source": [
        "nasdaqData , oilData , xomData = read_xom_oil_xom_nasdaq_data() \n",
        "\n",
        "combined = np.vstack((nasdaqData,oilData)).T\n"
      ],
      "execution_count": 0,
      "outputs": []
    },
    {
      "cell_type": "code",
      "metadata": {
        "id": "Sis_xQt47-Ht",
        "colab_type": "code",
        "colab": {
          "base_uri": "https://localhost:8080/",
          "height": 51
        },
        "outputId": "37a9c8cb-b81c-4b53-f49c-163e928e8c40"
      },
      "source": [
        "xomNasdaqOilModel =  linear_model.LinearRegression() \n",
        "\n",
        "xomNasdaqOilModel.fit(combined,xomData)\n",
        "xomNasdaqOilModel.score(combined,xomData)\n",
        "\n",
        "print(xomNasdaqOilModel.coef_)\n",
        "print(xomNasdaqOilModel.intercept_)"
      ],
      "execution_count": 56,
      "outputs": [
        {
          "output_type": "stream",
          "text": [
            "[0.74831623 0.08227063]\n",
            "-0.0021519883600707827\n"
          ],
          "name": "stdout"
        }
      ]
    },
    {
      "cell_type": "code",
      "metadata": {
        "id": "D2rtmEi98sWi",
        "colab_type": "code",
        "colab": {}
      },
      "source": [
        "import tensorflow as tf "
      ],
      "execution_count": 0,
      "outputs": []
    },
    {
      "cell_type": "code",
      "metadata": {
        "id": "GdMEyNHf9FYA",
        "colab_type": "code",
        "colab": {}
      },
      "source": [
        "nasdaq_W = tf.Variable(tf.zeros([1,1]),name=\"nasdaq_W\")\n",
        "oil_W = tf.Variable(tf.zeros([1,1]),name=\"oil_W\")\n",
        "b = tf.Variable(tf.zeros([1]),name=\"b\")\n",
        "\n",
        "nasdaq_x = tf.placeholder(tf.float32 , [None,1] , name=\"nasdaq_x\")\n",
        "oil_x = tf.placeholder(tf.float32,[None,1],name=\"oil_x\")\n",
        "\n",
        "nasdaq_Wx = tf.matmul(nasdaq_x,nasdaq_W)\n",
        "oil_Wx = tf.matmul(oil_x,oil_W)\n",
        "\n",
        "y = nasdaq_Wx + oil_Wx + b \n",
        "y_ = tf.placeholder(tf.float32,[None,1])\n",
        "\n",
        "cost = tf.reduce_mean(tf.square(y_ - y))\n",
        "\n",
        "train_ste_ftrl = tf.train.FtrlOptimizer(1).minimize(cost)"
      ],
      "execution_count": 0,
      "outputs": []
    },
    {
      "cell_type": "code",
      "metadata": {
        "id": "WYhFJ_PJAw4n",
        "colab_type": "code",
        "colab": {}
      },
      "source": [
        "all_x_nasdaq = nasdaqData.reshape(-1,1) \n",
        "all_x_oil = oilData.reshape(-1,1) \n",
        "all_x_xom = xomData.reshape(-1,1) \n",
        "\n",
        "dataset_size = len(oilData)"
      ],
      "execution_count": 0,
      "outputs": []
    },
    {
      "cell_type": "code",
      "metadata": {
        "id": "yaX8_qqlBRjj",
        "colab_type": "code",
        "colab": {}
      },
      "source": [
        "def trainwithMultiplePointsperEpoch(steps,train_step,batch_size):\n",
        "  init = tf.global_variables_initializer() \n",
        "\n",
        "  with tf.Session() as sess:\n",
        "    sess.run(init) \n",
        "    \n",
        "    for i in range(steps):\n",
        "      if dataset_size == batch_size:\n",
        "        batch_start_index = 0 \n",
        "      elif dataset_size<batch_size:\n",
        "        raise ValueError(\"batch size must be lesser than the dataset size\")\n",
        "      else :\n",
        "        batch_start_index = (i*batch_size)%dataset_size\n",
        "      batch_end_index = batch_start_index + batch_size \n",
        "\n",
        "      batch_x_nasdaq = all_x_nasdaq[batch_start_index:batch_end_index]\n",
        "      batch_x_oil = all_x_oil[batch_start_index:batch_end_index]\n",
        "      batch_ys = all_x_xom[batch_start_index:batch_end_index]\n",
        "\n",
        "      feed = {nasdaq_x:batch_x_nasdaq , oil_x : batch_x_oil , y_:batch_ys}\n",
        "\n",
        "      sess.run(train_ste_ftrl,feed_dict = feed) \n",
        "\n",
        "      if (i+1)/500 == 0 : \n",
        "        print(\"After %d iterations :\"%i) \n",
        "        print(\"W1: %s\" %sess.run(nasdaq_W))\n",
        "        print(\"W2: %s\" %sess.run(oil_W))\n",
        "        print(\"b : %s\" %sess.run(b))\n",
        "\n",
        "        print(\"cost function : %f\" %sess.run(cost,feed_dict = feed))"
      ],
      "execution_count": 0,
      "outputs": []
    },
    {
      "cell_type": "code",
      "metadata": {
        "id": "o3TGojLUFJ3q",
        "colab_type": "code",
        "colab": {}
      },
      "source": [
        "trainwithMultiplePointsperEpoch(5000,train_ste_ftrl,len(oilData))"
      ],
      "execution_count": 0,
      "outputs": []
    },
    {
      "cell_type": "code",
      "metadata": {
        "id": "ngRVnoR0FmN0",
        "colab_type": "code",
        "colab": {}
      },
      "source": [
        ""
      ],
      "execution_count": 0,
      "outputs": []
    }
  ]
}