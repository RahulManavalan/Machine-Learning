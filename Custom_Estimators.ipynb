{
  "nbformat": 4,
  "nbformat_minor": 0,
  "metadata": {
    "colab": {
      "name": "Untitled27.ipynb",
      "provenance": [],
      "authorship_tag": "ABX9TyMu/roX+LohaJI/TE45GCEP",
      "include_colab_link": true
    },
    "kernelspec": {
      "name": "python3",
      "display_name": "Python 3"
    }
  },
  "cells": [
    {
      "cell_type": "markdown",
      "metadata": {
        "id": "view-in-github",
        "colab_type": "text"
      },
      "source": [
        "<a href=\"https://colab.research.google.com/github/RahulManavalan/Machine-Learning/blob/master/Custom_Estimators.ipynb\" target=\"_parent\"><img src=\"https://colab.research.google.com/assets/colab-badge.svg\" alt=\"Open In Colab\"/></a>"
      ]
    },
    {
      "cell_type": "code",
      "metadata": {
        "id": "i_ntdbwns98x",
        "colab_type": "code",
        "colab": {}
      },
      "source": [
        "! pip install tensorflow==1.0\n",
        "import pandas as pd \n",
        "import numpy as np \n",
        "import tensorflow as tf "
      ],
      "execution_count": 0,
      "outputs": []
    },
    {
      "cell_type": "code",
      "metadata": {
        "id": "kcSIPTmlPctG",
        "colab_type": "code",
        "colab": {}
      },
      "source": [
        "def model(features,labels,mode): \n",
        "  W = tf.get_variable(\"W\",[1],dtype=tf.float64)\n",
        "  b = tf.get_variable(\"b\",[1],dtype=tf.float64) \n",
        "\n",
        "  y = W*features[\"x\"] + b \n",
        "\n",
        "  loss = tf.reduce_sum(tf.square(y-labels)) \n",
        "\n",
        "  global_step = tf.train.get_global_step() \n",
        "\n",
        "  optimizer = tf.train.FtrlOptimizer(1) \n",
        "\n",
        "  train  = tf.group(optimizer.minimize(loss) ,tf.assign_add(global_step ,1)) \n",
        "\n",
        "  return tf.contrib.learn.ModelFnOps(mode=mode,predictions=y,loss=loss,train_op=train) "
      ],
      "execution_count": 0,
      "outputs": []
    },
    {
      "cell_type": "code",
      "metadata": {
        "id": "B51kN5G8QI-7",
        "colab_type": "code",
        "colab": {}
      },
      "source": [
        "estimator = tf.contrib.learn.Estimator(model_fn=model) \n",
        "\n",
        "input_fn = tf.contrib.learn.io.numpy_input_fn({\"x\":xData}, yData , batch_size=len(xData),num_epochs=10000)\n",
        "\n",
        "fit = estimator.fit(input_fn = input_fn , steps = 10000)\n",
        "\n",
        "for variable_name in fit.get_variable_names():\n",
        "  print (variable_name, \"--->\" , fit.get_variable_values(variable_names)) "
      ],
      "execution_count": 0,
      "outputs": []
    },
    {
      "cell_type": "code",
      "metadata": {
        "id": "x8nVxnrRSPbK",
        "colab_type": "code",
        "colab": {}
      },
      "source": [
        ""
      ],
      "execution_count": 0,
      "outputs": []
    }
  ]
}