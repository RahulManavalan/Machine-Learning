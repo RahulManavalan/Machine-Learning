{
  "nbformat": 4,
  "nbformat_minor": 0,
  "metadata": {
    "colab": {
      "name": "Untitled27.ipynb",
      "provenance": [],
      "authorship_tag": "ABX9TyOT+xV8Nt0muRsDstvS87+m",
      "include_colab_link": true
    },
    "kernelspec": {
      "name": "python3",
      "display_name": "Python 3"
    }
  },
  "cells": [
    {
      "cell_type": "markdown",
      "metadata": {
        "id": "view-in-github",
        "colab_type": "text"
      },
      "source": [
        "<a href=\"https://colab.research.google.com/github/RahulManavalan/Machine-Learning/blob/master/Logistic_Regression_baseline.ipynb\" target=\"_parent\"><img src=\"https://colab.research.google.com/assets/colab-badge.svg\" alt=\"Open In Colab\"/></a>"
      ]
    },
    {
      "cell_type": "code",
      "metadata": {
        "id": "i_ntdbwns98x",
        "colab_type": "code",
        "colab": {}
      },
      "source": [
        "! pip install tensorflow==1.0\n",
        "import pandas as pd \n",
        "import numpy as np \n",
        "import tensorflow as tf"
      ],
      "execution_count": 0,
      "outputs": []
    },
    {
      "cell_type": "code",
      "metadata": {
        "id": "CPYdmOoytX-q",
        "colab_type": "code",
        "colab": {}
      },
      "source": [
        "def read_goog_sp500_data():\n",
        "  googFile = \"/content/GOOG.csv\"\n",
        "  spFile = \"/content/^IXIC.csv\"\n",
        "\n",
        "  goog = pd.read_csv(googFile,sep=\",\",usecols=[0,5],names=[\"Date\",\"Goog\"],header=0)\n",
        "  sp = pd.read_csv(spFile,sep=\",\",usecols=[0,5],names=[\"Date\",\"SP500\"],header=0)\n",
        "\n",
        "\n",
        "  goog[\"SP500\"] = sp[\"SP500\"]\n",
        "\n",
        "  goog[\"Date\"] = pd.to_datetime(goog[\"Date\"],format=\"%Y-%m-%d\")\n",
        "  goog = goog.sort_values([\"Date\"],ascending=[True])\n",
        "\n",
        "  returns = goog[[key for key in dict(goog.dtypes) if dict(goog.dtypes)[key] in [\"float64\",\"int64\"]]].pct_change()\n",
        "\n",
        "  return returns "
      ],
      "execution_count": 0,
      "outputs": []
    },
    {
      "cell_type": "code",
      "metadata": {
        "id": "V-2yiTgNycS8",
        "colab_type": "code",
        "colab": {}
      },
      "source": [
        "def read_goog_sp500_logistic_data():\n",
        "  returns = read_goog_sp500_data() \n",
        "  returns[\"Intercept\"] = 1 \n",
        "  xData = np.array(returns[[\"SP500\",\"Intercept\"]][1:-1])\n",
        "  yData = (returns[\"Goog\"] > 0)[1:-1] \n",
        "  return (xData , yData) "
      ],
      "execution_count": 0,
      "outputs": []
    },
    {
      "cell_type": "code",
      "metadata": {
        "id": "D7Tnp7mu1QSI",
        "colab_type": "code",
        "colab": {
          "base_uri": "https://localhost:8080/",
          "height": 90
        },
        "outputId": "dacf52b1-f29c-4e30-b897-a877bb2ffe91"
      },
      "source": [
        "xData , yData  = read_goog_sp500_logistic_data() \n",
        "logit = sm.Logit(yData,xData) \n",
        "result = logit.fit() \n",
        "\n",
        "predictions = (result.predict(xData)>0.5)\n",
        "\n",
        "num_accurate_predictions = (list(yData==predictions)).count(True) \n",
        "\n",
        "Accuracy = float(num_accurate_predictions)/float(len(predictions))\n",
        "\n",
        "print(Accuracy) "
      ],
      "execution_count": 52,
      "outputs": [
        {
          "output_type": "stream",
          "text": [
            "Optimization terminated successfully.\n",
            "         Current function value: 0.479920\n",
            "         Iterations 7\n",
            "0.7924528301886793\n"
          ],
          "name": "stdout"
        }
      ]
    },
    {
      "cell_type": "code",
      "metadata": {
        "id": "tMn7i2Vh4bXK",
        "colab_type": "code",
        "colab": {}
      },
      "source": [
        ""
      ],
      "execution_count": 0,
      "outputs": []
    },
    {
      "cell_type": "code",
      "metadata": {
        "id": "2DNCu7VM4h8b",
        "colab_type": "code",
        "colab": {}
      },
      "source": [
        ""
      ],
      "execution_count": 0,
      "outputs": []
    }
  ]
}